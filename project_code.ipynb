{
 "cells": [
  {
   "cell_type": "code",
   "execution_count": 1,
   "metadata": {},
   "outputs": [],
   "source": [
    "import plotly\n",
    "import plotly.dashboard_objs as dashboard\n",
    "plotly.tools.set_credentials_file(username='shailaja0812', api_key='eQb5fEsqR34RfwBvgxF2')"
   ]
  },
  {
   "cell_type": "code",
   "execution_count": 2,
   "metadata": {},
   "outputs": [],
   "source": [
    "import pandas as pd\n",
    "import numpy as np\n",
    "import scipy as sp\n",
    "import plotly.offline as off\n",
    "import plotly.graph_objs as go\n",
    "import plotly.plotly as py\n",
    "import dash\n",
    "import dash_core_components as dcc\n",
    "import dash_html_components as html\n",
    "external_stylesheets = ['https://codepen.io/chriddyp/pen/bWLwgP.css']\n",
    "app = dash.Dash(__name__, external_stylesheets=external_stylesheets)"
   ]
  },
  {
   "cell_type": "code",
   "execution_count": 3,
   "metadata": {},
   "outputs": [
    {
     "name": "stderr",
     "output_type": "stream",
     "text": [
      "/anaconda3/lib/python3.7/site-packages/IPython/core/interactiveshell.py:2785: DtypeWarning:\n",
      "\n",
      "Columns (14,18,24,25,39,42,43,52,54,55,58) have mixed types. Specify dtype option on import or set low_memory=False.\n",
      "\n"
     ]
    }
   ],
   "source": [
    "Offers = pd.read_csv(\"https://raw.githubusercontent.com/risarapu/Visual-Analytics/master/PRD_1.csv\")\n",
    "Question = pd.read_csv(\"https://raw.githubusercontent.com/risarapu/Visual-Analytics/master/RULO_Questioner_Data.csv\")\n",
    "Questionaire = pd.read_csv(\"https://raw.githubusercontent.com/risarapu/Visual-Analytics/master/RULO_Questioner_Data.csv\")\n",
    "OfferStatus = pd.read_csv(\"https://raw.githubusercontent.com/risarapu/Visual-Analytics/master/RULO_OfferStatusChange.csv\")"
   ]
  },
  {
   "cell_type": "code",
   "execution_count": 4,
   "metadata": {},
   "outputs": [],
   "source": [
    "Final_Dataset = pd.merge(Offers,Question,on=['QuestionerId'],how='inner')\n",
    "FinalDataset1 = pd.merge(Questionaire,OfferStatus,on=['QuestionerId'],how='inner')\n",
    "FinalDataset2 = pd.merge(Offers,OfferStatus,on=['QuestionerId'],how='inner')\n",
    "FinalDataset1 = FinalDataset1[['RequestedLoanTypeId','Status','PropertyState',\"PropertyTypeId\"]]\n",
    "FinalDataset4 = FinalDataset2[['LenderId','Status_y']]\n",
    "\n",
    "one_more=pd.merge(OfferStatus,Question,on=['QuestionerId'],how='inner')"
   ]
  },
  {
   "cell_type": "code",
   "execution_count": null,
   "metadata": {},
   "outputs": [],
   "source": [
    "x=pd.read_csv(\"https://raw.githubusercontent.com/shailajayadav/VA_FinalProject/master/Requests.csv\")\n",
    "x"
   ]
  },
  {
   "cell_type": "code",
   "execution_count": null,
   "metadata": {},
   "outputs": [],
   "source": [
    "x=Question.loc[:,[\"QuestionerId\",str(\"EstimatedCreditScoreBandId\")]]\n",
    "#print(\"x\",x)\n",
    "y=OfferStatus.loc[:,[\"QuestionerId\",\"Status\"]]\n",
    "#print(y)\n",
    "data_=pd.merge(x,y,on=['QuestionerId'],how='inner')\n",
    "main_data=data_.loc[:,[\"EstimatedCreditScoreBandId\",\"Status\"]]\n",
    "#main_data\n",
    "\n",
    "fina_data = main_data.groupby('EstimatedCreditScoreBandId').Status.value_counts().reset_index(name=\"count\")\n",
    "#print(df1)\n",
    "#print(df1.columns)\n",
    "#print(fina_data)\n",
    "fina_data[\"Status\"]=fina_data[\"Status\"].replace(1.0,\"Accepted\")\n",
    "fina_data[\"Status\"]=fina_data[\"Status\"].replace(2.0,\"Rejected\")\n",
    "fina_data[\"Status\"]=fina_data[\"Status\"].replace(0.0,\"Abonded\")\n",
    "#df1[\"count\"]=sorted(df1['count'])\n",
    "print(\"fina_data\",fina_data)"
   ]
  },
  {
   "cell_type": "code",
   "execution_count": 18,
   "metadata": {
    "collapsed": true
   },
   "outputs": [
    {
     "data": {
      "text/plain": [
       "'\\n#Found that The Loan which are in Rejected status their Credit Score is Not avaliable\\n\\n#df1 = FinalDataset1.groupby(\\'RequestedLoanTypeId\\').Status.value_counts().reset_index(name=\"count\")\\nd_3 = fina_data.loc[fina_data[\\'Status\\'] == \"Accepted\"]\\nd_4 = fina_data.loc[fina_data[\\'Status\\'] == \"Abonded\"]\\nd_5 = fina_data.loc[fina_data[\\'Status\\'] == \"Rejected\"]\\n\\ntrace2 = go.Bar(\\n    x=d_4[\\'EstimatedCreditScoreBandId\\'],\\n    y=d_4[\\'count\\'],\\n    name=\\' Abonded\\'\\n)\\ntrace1 = go.Bar(\\n    x=d_3[\\'EstimatedCreditScoreBandId\\'],\\n    y=d_3[\\'count\\'],\\n    name=\\'Accepted\\'\\n\\n)\\ntrace3 = go.Bar(\\n    x=d_5[\\'EstimatedCreditScoreBandId\\'],\\n    y=d_5[\\'count\\'],\\n    name=\"Rejected\"\\n)\\n\\n\\ndata = [trace2,trace1,trace3]\\nlayout = go.Layout(\\n    barmode=\\'group\\',\\n    title=\\'Acceptance/Rejection based on LoanType\\',\\n    xaxis=dict(\\n        title=\\'Status:Acceptance/Rejection\\',\\n        titlefont=dict(\\n            family=\\'Courier New, monospace\\',\\n            #size=10,\\n            color=\\'#7f7f6f\\'\\n        )\\n    ),\\n    yaxis=dict(\\n        title=\\'Count of Status\\',\\n        titlefont=dict(\\n            family=\\'Courier New, monospace\\',\\n            #size=10,\\n            color=\\'#7f7f7f\\'\\n        )\\n)\\n)\\n\\nfig = go.Figure(data=data, layout=layout)\\nsecond_plot_url = py.iplot(fig, filename=\\'grouped-bar\\')\\npy.iplot(fig, filename=\\'second_plot_url\\')\\n'"
      ]
     },
     "execution_count": 18,
     "metadata": {},
     "output_type": "execute_result"
    }
   ],
   "source": [
    "\"\"\"\n",
    "#Found that The Loan which are in Rejected status their Credit Score is Not avaliable\n",
    "\n",
    "#df1 = FinalDataset1.groupby('RequestedLoanTypeId').Status.value_counts().reset_index(name=\"count\")\n",
    "d_3 = fina_data.loc[fina_data['Status'] == \"Accepted\"]\n",
    "d_4 = fina_data.loc[fina_data['Status'] == \"Abonded\"]\n",
    "d_5 = fina_data.loc[fina_data['Status'] == \"Rejected\"]\n",
    "\n",
    "trace2 = go.Bar(\n",
    "    x=d_4['EstimatedCreditScoreBandId'],\n",
    "    y=d_4['count'],\n",
    "    name=' Abonded'\n",
    ")\n",
    "trace1 = go.Bar(\n",
    "    x=d_3['EstimatedCreditScoreBandId'],\n",
    "    y=d_3['count'],\n",
    "    name='Accepted'\n",
    "\n",
    ")\n",
    "trace3 = go.Bar(\n",
    "    x=d_5['EstimatedCreditScoreBandId'],\n",
    "    y=d_5['count'],\n",
    "    name=\"Rejected\"\n",
    ")\n",
    "\n",
    "\n",
    "data = [trace2,trace1,trace3]\n",
    "layout = go.Layout(\n",
    "    barmode='group',\n",
    "    title='Acceptance/Rejection based on LoanType',\n",
    "    xaxis=dict(\n",
    "        title='Status:Acceptance/Rejection',\n",
    "        titlefont=dict(\n",
    "            family='Courier New, monospace',\n",
    "            #size=10,\n",
    "            color='#7f7f6f'\n",
    "        )\n",
    "    ),\n",
    "    yaxis=dict(\n",
    "        title='Count of Status',\n",
    "        titlefont=dict(\n",
    "            family='Courier New, monospace',\n",
    "            #size=10,\n",
    "            color='#7f7f7f'\n",
    "        )\n",
    ")\n",
    ")\n",
    "\n",
    "fig = go.Figure(data=data, layout=layout)\n",
    "second_plot_url = py.iplot(fig, filename='grouped-bar')\n",
    "py.iplot(fig, filename='second_plot_url')\n",
    "\"\"\""
   ]
  },
  {
   "cell_type": "code",
   "execution_count": 6,
   "metadata": {},
   "outputs": [
    {
     "data": {
      "text/html": [
       "<div>\n",
       "<style scoped>\n",
       "    .dataframe tbody tr th:only-of-type {\n",
       "        vertical-align: middle;\n",
       "    }\n",
       "\n",
       "    .dataframe tbody tr th {\n",
       "        vertical-align: top;\n",
       "    }\n",
       "\n",
       "    .dataframe thead th {\n",
       "        text-align: right;\n",
       "    }\n",
       "</style>\n",
       "<table border=\"1\" class=\"dataframe\">\n",
       "  <thead>\n",
       "    <tr style=\"text-align: right;\">\n",
       "      <th></th>\n",
       "      <th>LenderId</th>\n",
       "      <th>Status_y</th>\n",
       "      <th>counts</th>\n",
       "    </tr>\n",
       "  </thead>\n",
       "  <tbody>\n",
       "    <tr>\n",
       "      <th>0</th>\n",
       "      <td>7.0</td>\n",
       "      <td>1.0</td>\n",
       "      <td>671</td>\n",
       "    </tr>\n",
       "    <tr>\n",
       "      <th>2</th>\n",
       "      <td>9.0</td>\n",
       "      <td>1.0</td>\n",
       "      <td>1301</td>\n",
       "    </tr>\n",
       "    <tr>\n",
       "      <th>4</th>\n",
       "      <td>83.0</td>\n",
       "      <td>1.0</td>\n",
       "      <td>1900</td>\n",
       "    </tr>\n",
       "    <tr>\n",
       "      <th>6</th>\n",
       "      <td>165.0</td>\n",
       "      <td>1.0</td>\n",
       "      <td>341</td>\n",
       "    </tr>\n",
       "    <tr>\n",
       "      <th>7</th>\n",
       "      <td>232.0</td>\n",
       "      <td>1.0</td>\n",
       "      <td>951</td>\n",
       "    </tr>\n",
       "  </tbody>\n",
       "</table>\n",
       "</div>"
      ],
      "text/plain": [
       "   LenderId  Status_y  counts\n",
       "0       7.0       1.0     671\n",
       "2       9.0       1.0    1301\n",
       "4      83.0       1.0    1900\n",
       "6     165.0       1.0     341\n",
       "7     232.0       1.0     951"
      ]
     },
     "execution_count": 6,
     "metadata": {},
     "output_type": "execute_result"
    }
   ],
   "source": [
    "df4 = FinalDataset4.groupby('LenderId').Status_y.value_counts().reset_index(name = \"counts\")\n",
    "d4 = df4.loc[df4['Status_y'] == 1]\n",
    "d4"
   ]
  },
  {
   "cell_type": "code",
   "execution_count": 7,
   "metadata": {},
   "outputs": [
    {
     "data": {
      "text/html": [
       "<iframe id=\"igraph\" scrolling=\"no\" style=\"border:none;\" seamless=\"seamless\" src=\"https://plot.ly/~isarapu.rohini/7.embed\" height=\"525px\" width=\"100%\"></iframe>"
      ],
      "text/plain": [
       "<plotly.tools.PlotlyDisplay object>"
      ]
     },
     "execution_count": 7,
     "metadata": {},
     "output_type": "execute_result"
    }
   ],
   "source": [
    "labels = d4['LenderId']\n",
    "values = d4['counts']\n",
    "\n",
    "trace = go.Pie(labels=labels, values=values, name='LenderId')\n",
    "\n",
    "\n",
    "data =[trace]\n",
    "layout = go.Layout(\n",
    "    title='Most Popular Lender',\n",
    "    titlefont=dict(\n",
    "            family='Courier New, monospace',\n",
    "            size=25,\n",
    "            color='#7f7f7f'\n",
    "        )\n",
    "    )\n",
    "\n",
    "fig = go.Figure(data=data,layout=layout)\n",
    "\n",
    "py.iplot(fig, filename='basic_pie_chart')"
   ]
  },
  {
   "cell_type": "code",
   "execution_count": 8,
   "metadata": {},
   "outputs": [],
   "source": [
    "df2 = FinalDataset2.groupby('AmortizationType').Status_y.value_counts().reset_index(name=\"count\")\n",
    "d1 = df2.loc[df2['AmortizationType'] == 'Fixed']\n",
    "d2 = df2.loc[df2['AmortizationType'] == 'Variable']"
   ]
  },
  {
   "cell_type": "code",
   "execution_count": 9,
   "metadata": {},
   "outputs": [
    {
     "data": {
      "text/html": [
       "<iframe id=\"igraph\" scrolling=\"no\" style=\"border:none;\" seamless=\"seamless\" src=\"https://plot.ly/~isarapu.rohini/17.embed\" height=\"525px\" width=\"100%\"></iframe>"
      ],
      "text/plain": [
       "<plotly.tools.PlotlyDisplay object>"
      ]
     },
     "execution_count": 9,
     "metadata": {},
     "output_type": "execute_result"
    }
   ],
   "source": [
    "fig = {\n",
    "  \"data\": [\n",
    "    {\n",
    "      \"values\": d1['count'],\n",
    "      \"labels\": d1['Status_y'],\n",
    "      \"domain\": {\"x\": [0, .48]},\n",
    "      \"hoverinfo\":\"label+percent+name\",\n",
    "      \"hole\": .4,\n",
    "      \"type\": \"pie\"\n",
    "    },\n",
    "    {\n",
    "      \"values\": d2['count'],\n",
    "      \"labels\": d2['Status_y'],\n",
    "      \"textposition\":\"outside\",\n",
    "      \"domain\": {\"x\": [.52, 1]},\n",
    "      \"hoverinfo\":\"label+percent+name\",\n",
    "      \"hole\": .4,\n",
    "      \"type\": \"pie\"\n",
    "    }],\n",
    "  \"layout\": {\n",
    "        \"title\":\"Acceptance/Rejection based on Loan Type\",\n",
    "        \"annotations\": [\n",
    "            {\n",
    "                \"font\": {\n",
    "                    \"size\": 13\n",
    "                },\n",
    "                \"showarrow\": False,\n",
    "                \"text\": \"Fixed\",\n",
    "                \"x\": 0.20,\n",
    "                \"y\": 0.5\n",
    "            },\n",
    "            {\n",
    "                \"font\": {\n",
    "                    \"size\": 13\n",
    "                },\n",
    "                \"showarrow\": False,\n",
    "                \"text\": \"Variable\",\n",
    "                \"x\": 0.8,\n",
    "                \"y\": 0.5\n",
    "            }\n",
    "        ]\n",
    "    }\n",
    "}\n",
    "\n",
    "first_plot_url = py.iplot(fig, filename='donut')\n",
    "py.iplot(fig, filename='first_plot_url')"
   ]
  },
  {
   "cell_type": "code",
   "execution_count": 10,
   "metadata": {},
   "outputs": [
    {
     "name": "stdout",
     "output_type": "stream",
     "text": [
      "   RequestedLoanTypeId    Status  count\n",
      "0   Home Purchase Loan  Accepted    474\n",
      "1   Home Purchase Loan   Abonded      4\n",
      "2  Home Refinance Loan  Rejected   4032\n",
      "3  Home Refinance Loan  Accepted   2838\n",
      "4  Home Refinance Loan   Abonded    425\n"
     ]
    }
   ],
   "source": [
    "a=FinalDataset1.groupby('RequestedLoanTypeId').Status.value_counts().reset_index(name=\"count\")\n",
    "df1 = a\n",
    "#print(df1)\n",
    "#print(df1.columns)\n",
    "df1[\"Status\"]=df1[\"Status\"].replace(1,\"Accepted\")\n",
    "df1[\"Status\"]=df1[\"Status\"].replace(2,\"Rejected\")\n",
    "df1[\"Status\"]=df1[\"Status\"].replace(0,\"Abonded\")\n",
    "df1[\"RequestedLoanTypeId\"]=df1[\"RequestedLoanTypeId\"].replace(1,\"Home Purchase Loan\")\n",
    "df1[\"RequestedLoanTypeId\"]=df1[\"RequestedLoanTypeId\"].replace(2,\"Home Refinance Loan\")\n",
    "#df1[\"count\"]=sorted(df1['count'])\n",
    "print(df1)\n"
   ]
  },
  {
   "cell_type": "code",
   "execution_count": 11,
   "metadata": {},
   "outputs": [
    {
     "data": {
      "text/html": [
       "<iframe id=\"igraph\" scrolling=\"no\" style=\"border:none;\" seamless=\"seamless\" src=\"https://plot.ly/~isarapu.rohini/19.embed\" height=\"525px\" width=\"100%\"></iframe>"
      ],
      "text/plain": [
       "<plotly.tools.PlotlyDisplay object>"
      ]
     },
     "execution_count": 11,
     "metadata": {},
     "output_type": "execute_result"
    }
   ],
   "source": [
    "#df1 = FinalDataset1.groupby('RequestedLoanTypeId').Status.value_counts().reset_index(name=\"count\")\n",
    "d3 = df1.loc[df1['Status'] == \"Accepted\"]\n",
    "d4 = df1.loc[df1['Status'] == \"Abonded\"]\n",
    "d5 = df1.loc[df1['Status'] == \"Rejected\"]\n",
    "\n",
    "trace2 = go.Bar(\n",
    "    x=d4['RequestedLoanTypeId'],\n",
    "    y=d4['count'],\n",
    "    name=' Abonded'\n",
    ")\n",
    "trace1 = go.Bar(\n",
    "    x=d3['RequestedLoanTypeId'],\n",
    "    y=d3['count'],\n",
    "    name='Accepted'\n",
    "\n",
    ")\n",
    "trace3 = go.Bar(\n",
    "    x=d5['RequestedLoanTypeId'],\n",
    "    y=d5['count'],\n",
    "    name=\"Rejected\"\n",
    ")\n",
    "\n",
    "\n",
    "data = [trace2,trace1,trace3]\n",
    "layout = go.Layout(\n",
    "    barmode='group',\n",
    "    title='Acceptance/Rejection based on LoanType',\n",
    "    xaxis=dict(\n",
    "        title='Status:Acceptance/Rejection',\n",
    "        titlefont=dict(\n",
    "            family='Courier New, monospace',\n",
    "            size=18,\n",
    "            color='#7f7f6f'\n",
    "        )\n",
    "    ),\n",
    "    yaxis=dict(\n",
    "        title='Count of Status',\n",
    "        titlefont=dict(\n",
    "            family='Courier New, monospace',\n",
    "            size=18,\n",
    "            color='#7f7f7f'\n",
    "        )\n",
    ")\n",
    ")\n",
    "\n",
    "fig = go.Figure(data=data, layout=layout)\n",
    "second_plot_url = py.iplot(fig, filename='grouped-bar')\n",
    "py.iplot(fig, filename='second_plot_url')"
   ]
  },
  {
   "cell_type": "code",
   "execution_count": null,
   "metadata": {},
   "outputs": [],
   "source": []
  },
  {
   "cell_type": "code",
   "execution_count": 12,
   "metadata": {},
   "outputs": [
    {
     "data": {
      "text/html": [
       "<iframe id=\"igraph\" scrolling=\"no\" style=\"border:none;\" seamless=\"seamless\" src=\"https://plot.ly/~isarapu.rohini/21.embed\" height=\"525px\" width=\"100%\"></iframe>"
      ],
      "text/plain": [
       "<plotly.tools.PlotlyDisplay object>"
      ]
     },
     "execution_count": 12,
     "metadata": {},
     "output_type": "execute_result"
    }
   ],
   "source": [
    "df3 = FinalDataset1['Status'].groupby(FinalDataset1['PropertyState']).count().reset_index(name = 'counts')\n",
    "scl = [[0.0, 'rgb(115, 230, 0)'],[0.2, 'rgb(102, 204, 0)'],[0.4, 'rgb(89, 179, 0)'],\\\n",
    "            [0.6, 'rgb(77, 153, 0)'],[0.8, 'rgb(64, 128, 0)'],[1.0, 'rgb(51, 102, 0)']]\n",
    "\n",
    "\n",
    "data = [ dict(\n",
    "        type='choropleth',\n",
    "        colorscale = scl,\n",
    "        autocolorscale = False,\n",
    "        locations = df3['PropertyState'],\n",
    "        z = df3['counts'].astype(float),\n",
    "        locationmode = 'USA-states',\n",
    "        marker = dict(\n",
    "            line = dict (\n",
    "                color = 'rgb(255,255,255)',\n",
    "                width = 2\n",
    "            ) ),\n",
    "        colorbar = dict(\n",
    "            title = \"Count Of Status\")\n",
    "        ) ]\n",
    "\n",
    "layout = dict(\n",
    "        title = 'Popular States<br>(Hover for breakdown)',\n",
    "        geo = dict(\n",
    "            scope='usa',\n",
    "            projection=dict( type='albers usa' ),\n",
    "            showlakes = True,\n",
    "            lakecolor = 'rgb(255,255,255)'),\n",
    "             )\n",
    "    \n",
    "fig = dict( data=data, layout=layout )\n",
    "third_plot_url = py.iplot( fig, filename='d3-cloropleth-map' )\n",
    "py.iplot(fig, filename='third_plot_url ')\n",
    "    "
   ]
  },
  {
   "cell_type": "code",
   "execution_count": 13,
   "metadata": {},
   "outputs": [
    {
     "data": {
      "text/html": [
       "\n",
       "<!DOCTYPE HTML>\n",
       "<html>\n",
       "  <head>\n",
       "    <style>\n",
       "      body {\n",
       "        margin: 0px;\n",
       "        padding: 0px;\n",
       "      }\n",
       "    </style>\n",
       "  </head>\n",
       "  <body>\n",
       "    <canvas id=\"myCanvas\" width=\"500\" height=\"500\"></canvas>\n",
       "    <script>\n",
       "      var canvas = document.getElementById('myCanvas');\n",
       "      var context = canvas.getContext('2d');\n",
       "      <!-- Dashboard -->\n",
       "      context.beginPath();\n",
       "      context.rect(0, 0, 500, 500);\n",
       "      context.lineWidth = 2;\n",
       "      context.strokeStyle = 'black';\n",
       "      context.stroke();\n",
       "      </script>\n",
       "  </body>\n",
       "</html>\n"
      ],
      "text/plain": [
       "<IPython.core.display.HTML object>"
      ]
     },
     "execution_count": 13,
     "metadata": {},
     "output_type": "execute_result"
    }
   ],
   "source": [
    "my_dboard = dashboard.Dashboard()\n",
    "my_dboard.get_preview()"
   ]
  },
  {
   "cell_type": "code",
   "execution_count": 14,
   "metadata": {},
   "outputs": [],
   "source": [
    "box_1 = {\n",
    "    'type': 'box',\n",
    "    'boxType': 'plot',\n",
    "    'fileId': 'isarapu.rohini:5',\n",
    "    'title': 'chloropeth-map'\n",
    "}\n",
    " \n",
    "box_2 = {\n",
    "    'type': 'box',\n",
    "    'boxType': 'plot',\n",
    "    'fileId': 'isarapu.rohini:13',\n",
    "    'title': 'grouped-barchart'\n",
    "}\n",
    " \n",
    "box_3 = {\n",
    "    'type': 'box',\n",
    "    'boxType': 'plot',\n",
    "    'fileId': 'isarapu.rohini:9',\n",
    "    'title': 'donut-for-dashboard',\n",
    "}\n",
    "\n",
    "box_4 = {\n",
    "    'type': 'box',\n",
    "    'boxType': 'plot',\n",
    "    'fileId': 'isarapu.rohini:7',\n",
    "    'title': 'pie-for-dashboard',\n",
    "}\n",
    " \n"
   ]
  },
  {
   "cell_type": "code",
   "execution_count": 15,
   "metadata": {},
   "outputs": [],
   "source": [
    "my_dboard.insert(box_3)\n",
    "my_dboard.insert(box_1, 'above', 1)\n",
    "my_dboard.insert(box_4,'left',2)\n",
    "my_dboard.insert(box_2, 'below', 3)\n",
    "\n",
    "my_dboard['settings']['title'] = 'My First Dashboard with Python'\n",
    "my_dboard['settings']['logoUrl'] = 'https://images.plot.ly/language-icons/api-home/python-logo.png'\n",
    "my_dboard['settings']['links'] = []\n",
    "my_dboard['settings']['links'].append({'title': 'Link to Plotly', 'url': 'https://plot.ly/'})\n",
    "my_dboard['settings']['links'].append({'title': 'Link to Python Website', 'url': 'https://www.python.org/'})\n",
    "my_dboard['settings']['foregroundColor'] = '#000000'\n",
    "my_dboard['settings']['backgroundColor'] = '#adcaea'\n",
    "my_dboard['settings']['headerForegroundColor'] = '#ffffff'\n",
    "my_dboard['settings']['headerBackgroundColor'] = '#D232C8'\n",
    "my_dboard['settings']['boxBackgroundColor'] = '#ffffff'\n",
    "my_dboard['settings']['boxBorderColor'] = '#000000'\n",
    "my_dboard['settings']['boxHeaderBackgroundColor'] = '#ffffff'\n",
    "my_dboard['settings']['fontFamily'] = 'Raleway'\n",
    "my_dboard['settings']['headerFontSize'] = '1.6em'\n",
    "my_dboard['settings']['headerFontWeight'] = '200'\n",
    "stacked_dboard = dashboard.Dashboard()\n",
    "text_box = {\n",
    "    'type': 'box',\n",
    "    'boxType': 'text',\n",
    "    'text': 'empty space'\n",
    "}\n",
    "for _ in range(5):\n",
    "    stacked_dboard.insert(text_box, 'below', 1)\n",
    "    "
   ]
  },
  {
   "cell_type": "code",
   "execution_count": 16,
   "metadata": {},
   "outputs": [],
   "source": [
    "stacked_dboard['layout']['size'] = 500"
   ]
  },
  {
   "cell_type": "code",
   "execution_count": 17,
   "metadata": {},
   "outputs": [
    {
     "data": {
      "text/plain": [
       "'https://plot.ly/~isarapu.rohini/2/my-first-dashboard-with-python/'"
      ]
     },
     "execution_count": 17,
     "metadata": {},
     "output_type": "execute_result"
    }
   ],
   "source": [
    "py.dashboard_ops.upload(my_dboard, 'My First Dashboard with Python')\n"
   ]
  },
  {
   "cell_type": "code",
   "execution_count": null,
   "metadata": {},
   "outputs": [],
   "source": []
  },
  {
   "cell_type": "code",
   "execution_count": null,
   "metadata": {},
   "outputs": [],
   "source": []
  }
 ],
 "metadata": {
  "kernelspec": {
   "display_name": "Python 3",
   "language": "python",
   "name": "python3"
  },
  "language_info": {
   "codemirror_mode": {
    "name": "ipython",
    "version": 3
   },
   "file_extension": ".py",
   "mimetype": "text/x-python",
   "name": "python",
   "nbconvert_exporter": "python",
   "pygments_lexer": "ipython3",
   "version": "3.7.0"
  }
 },
 "nbformat": 4,
 "nbformat_minor": 2
}
